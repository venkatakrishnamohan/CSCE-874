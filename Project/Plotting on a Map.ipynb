{
 "cells": [
  {
   "cell_type": "code",
   "execution_count": 1,
   "metadata": {
    "collapsed": true
   },
   "outputs": [],
   "source": [
    "import folium\n",
    "from folium.features import DivIcon\n",
    "#latlon = [ (51.249443914705175, -0.13878830247011467), (51.249443914705175, -0.13878830247011467), (51.249768239976866, -2.8610415615063034)]\n",
    "#mapit = folium.Map( location=[52.667989, -1.464582], zoom_start=6 )\n",
    "#for coord in latlon:\n",
    "#    folium.Marker( location=[ coord[0], coord[1] ],icon=DivIcon(\n",
    "#        icon_size=(150,36),\n",
    "#        icon_anchor=(0,0),\n",
    "#       html='<div style=\"font-size: 24pt\">Test</div>',\n",
    "#        ) ).add_to( mapit )\n",
    "\n",
    "#mapit.save( 'map.html')"
   ]
  },
  {
   "cell_type": "code",
   "execution_count": 2,
   "metadata": {
    "collapsed": true
   },
   "outputs": [],
   "source": [
    "import pandas as pd"
   ]
  },
  {
   "cell_type": "code",
   "execution_count": 12,
   "metadata": {
    "collapsed": true
   },
   "outputs": [],
   "source": [
    "d = pd.read_csv('rules_protest1_df.csv')"
   ]
  },
  {
   "cell_type": "code",
   "execution_count": 31,
   "metadata": {},
   "outputs": [
    {
     "data": {
      "text/html": [
       "<div>\n",
       "<style>\n",
       "    .dataframe thead tr:only-child th {\n",
       "        text-align: right;\n",
       "    }\n",
       "\n",
       "    .dataframe thead th {\n",
       "        text-align: left;\n",
       "    }\n",
       "\n",
       "    .dataframe tbody tr th {\n",
       "        vertical-align: top;\n",
       "    }\n",
       "</style>\n",
       "<table border=\"1\" class=\"dataframe\">\n",
       "  <thead>\n",
       "    <tr style=\"text-align: right;\">\n",
       "      <th></th>\n",
       "      <th>Unnamed: 0</th>\n",
       "      <th>TRU</th>\n",
       "      <th>count</th>\n",
       "      <th>day</th>\n",
       "      <th>event_id</th>\n",
       "      <th>lat</th>\n",
       "      <th>lon</th>\n",
       "      <th>month</th>\n",
       "      <th>protest category</th>\n",
       "      <th>state_2</th>\n",
       "      <th>year</th>\n",
       "      <th>Social Status (A/NA)</th>\n",
       "      <th>pop</th>\n",
       "      <th>infra_area</th>\n",
       "      <th>social_housing</th>\n",
       "      <th>distance</th>\n",
       "      <th>infra_num</th>\n",
       "      <th>infra_dist</th>\n",
       "      <th>X[[i]]</th>\n",
       "    </tr>\n",
       "  </thead>\n",
       "  <tbody>\n",
       "    <tr>\n",
       "      <th>0</th>\n",
       "      <td>0</td>\n",
       "      <td>Rural</td>\n",
       "      <td>less</td>\n",
       "      <td>18</td>\n",
       "      <td>272137762</td>\n",
       "      <td>9.49417</td>\n",
       "      <td>76.3275</td>\n",
       "      <td>10</td>\n",
       "      <td>Fight</td>\n",
       "      <td>Kerala</td>\n",
       "      <td>2013</td>\n",
       "      <td>poor</td>\n",
       "      <td>more</td>\n",
       "      <td>better</td>\n",
       "      <td>better</td>\n",
       "      <td>accessible</td>\n",
       "      <td>good</td>\n",
       "      <td>near</td>\n",
       "      <td>272137762</td>\n",
       "    </tr>\n",
       "    <tr>\n",
       "      <th>1</th>\n",
       "      <td>1</td>\n",
       "      <td>Rural</td>\n",
       "      <td>less</td>\n",
       "      <td>2</td>\n",
       "      <td>481040870</td>\n",
       "      <td>9.49417</td>\n",
       "      <td>76.3275</td>\n",
       "      <td>11</td>\n",
       "      <td>Fight</td>\n",
       "      <td>Kerala</td>\n",
       "      <td>2015</td>\n",
       "      <td>poor</td>\n",
       "      <td>more</td>\n",
       "      <td>better</td>\n",
       "      <td>better</td>\n",
       "      <td>accessible</td>\n",
       "      <td>good</td>\n",
       "      <td>near</td>\n",
       "      <td>481040870</td>\n",
       "    </tr>\n",
       "    <tr>\n",
       "      <th>2</th>\n",
       "      <td>2</td>\n",
       "      <td>Rural</td>\n",
       "      <td>less</td>\n",
       "      <td>21</td>\n",
       "      <td>411144570</td>\n",
       "      <td>9.49417</td>\n",
       "      <td>76.3275</td>\n",
       "      <td>2</td>\n",
       "      <td>Fight</td>\n",
       "      <td>Kerala</td>\n",
       "      <td>2015</td>\n",
       "      <td>poor</td>\n",
       "      <td>more</td>\n",
       "      <td>better</td>\n",
       "      <td>better</td>\n",
       "      <td>accessible</td>\n",
       "      <td>good</td>\n",
       "      <td>near</td>\n",
       "      <td>411144570</td>\n",
       "    </tr>\n",
       "    <tr>\n",
       "      <th>3</th>\n",
       "      <td>3</td>\n",
       "      <td>Rural</td>\n",
       "      <td>less</td>\n",
       "      <td>10</td>\n",
       "      <td>258996029</td>\n",
       "      <td>9.49417</td>\n",
       "      <td>76.3275</td>\n",
       "      <td>7</td>\n",
       "      <td>Fight</td>\n",
       "      <td>Kerala</td>\n",
       "      <td>2013</td>\n",
       "      <td>poor</td>\n",
       "      <td>more</td>\n",
       "      <td>better</td>\n",
       "      <td>better</td>\n",
       "      <td>accessible</td>\n",
       "      <td>good</td>\n",
       "      <td>near</td>\n",
       "      <td>258996029</td>\n",
       "    </tr>\n",
       "    <tr>\n",
       "      <th>4</th>\n",
       "      <td>4</td>\n",
       "      <td>Rural</td>\n",
       "      <td>less</td>\n",
       "      <td>30</td>\n",
       "      <td>303220469</td>\n",
       "      <td>9.49417</td>\n",
       "      <td>76.3275</td>\n",
       "      <td>6</td>\n",
       "      <td>Fight</td>\n",
       "      <td>Kerala</td>\n",
       "      <td>2014</td>\n",
       "      <td>poor</td>\n",
       "      <td>more</td>\n",
       "      <td>better</td>\n",
       "      <td>better</td>\n",
       "      <td>accessible</td>\n",
       "      <td>good</td>\n",
       "      <td>near</td>\n",
       "      <td>303220469</td>\n",
       "    </tr>\n",
       "  </tbody>\n",
       "</table>\n",
       "</div>"
      ],
      "text/plain": [
       "   Unnamed: 0    TRU count  day   event_id      lat      lon  month  \\\n",
       "0           0  Rural  less   18  272137762  9.49417  76.3275     10   \n",
       "1           1  Rural  less    2  481040870  9.49417  76.3275     11   \n",
       "2           2  Rural  less   21  411144570  9.49417  76.3275      2   \n",
       "3           3  Rural  less   10  258996029  9.49417  76.3275      7   \n",
       "4           4  Rural  less   30  303220469  9.49417  76.3275      6   \n",
       "\n",
       "  protest category  state_2  year Social Status (A/NA)   pop infra_area  \\\n",
       "0            Fight   Kerala  2013                 poor  more     better   \n",
       "1            Fight   Kerala  2015                 poor  more     better   \n",
       "2            Fight   Kerala  2015                 poor  more     better   \n",
       "3            Fight   Kerala  2013                 poor  more     better   \n",
       "4            Fight   Kerala  2014                 poor  more     better   \n",
       "\n",
       "  social_housing    distance infra_num infra_dist     X[[i]]  \n",
       "0         better  accessible      good       near  272137762  \n",
       "1         better  accessible      good       near  481040870  \n",
       "2         better  accessible      good       near  411144570  \n",
       "3         better  accessible      good       near  258996029  \n",
       "4         better  accessible      good       near  303220469  "
      ]
     },
     "execution_count": 31,
     "metadata": {},
     "output_type": "execute_result"
    }
   ],
   "source": [
    "d['Social Status (A/NA)']"
   ]
  },
  {
   "cell_type": "code",
   "execution_count": 13,
   "metadata": {
    "collapsed": true
   },
   "outputs": [],
   "source": [
    "mapit = folium.Map(location=[20.5937, 78.9629],zoom_start=1)"
   ]
  },
  {
   "cell_type": "code",
   "execution_count": 14,
   "metadata": {},
   "outputs": [],
   "source": [
    "for index,row in d.iterrows():\n",
    "    folium.Marker( location=[ row['lat'], row['lon'] ] ,popup=\"protest_category: \"+row['protest category']+\" count:\"+row['count']+\" Social Status(A/NA):\"+row['Social Status (A/NA)']+\" pop:\"+row['pop']+\" infra_area:\"+row['infra_area']+\" social_housing:\"+row['social_housing']+\" distance:\"+row['distance']+\" infra_num:\"+row['infra_num']).add_to( mapit )"
   ]
  },
  {
   "cell_type": "code",
   "execution_count": 15,
   "metadata": {
    "collapsed": true
   },
   "outputs": [],
   "source": [
    "mapit.save( 'rules_protest1_pca.html')"
   ]
  },
  {
   "cell_type": "code",
   "execution_count": null,
   "metadata": {
    "collapsed": true
   },
   "outputs": [],
   "source": []
  }
 ],
 "metadata": {
  "kernelspec": {
   "display_name": "Python 3",
   "language": "python",
   "name": "python3"
  },
  "language_info": {
   "codemirror_mode": {
    "name": "ipython",
    "version": 3
   },
   "file_extension": ".py",
   "mimetype": "text/x-python",
   "name": "python",
   "nbconvert_exporter": "python",
   "pygments_lexer": "ipython3",
   "version": "3.6.2"
  }
 },
 "nbformat": 4,
 "nbformat_minor": 2
}
