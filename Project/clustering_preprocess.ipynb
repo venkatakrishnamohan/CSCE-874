{
 "cells": [
  {
   "cell_type": "code",
   "execution_count": 1,
   "metadata": {
    "collapsed": true
   },
   "outputs": [],
   "source": [
    "import numpy as np\n",
    "import pandas as pd"
   ]
  },
  {
   "cell_type": "code",
   "execution_count": 5,
   "metadata": {
    "collapsed": true
   },
   "outputs": [],
   "source": [
    "cluster_data = pd.read_csv('compressed_clustering.csv')"
   ]
  },
  {
   "cell_type": "code",
   "execution_count": null,
   "metadata": {
    "collapsed": true
   },
   "outputs": [],
   "source": []
  },
  {
   "cell_type": "code",
   "execution_count": 6,
   "metadata": {},
   "outputs": [
    {
     "data": {
      "text/html": [
       "<div>\n",
       "<style>\n",
       "    .dataframe thead tr:only-child th {\n",
       "        text-align: right;\n",
       "    }\n",
       "\n",
       "    .dataframe thead th {\n",
       "        text-align: left;\n",
       "    }\n",
       "\n",
       "    .dataframe tbody tr th {\n",
       "        vertical-align: top;\n",
       "    }\n",
       "</style>\n",
       "<table border=\"1\" class=\"dataframe\">\n",
       "  <thead>\n",
       "    <tr style=\"text-align: right;\">\n",
       "      <th></th>\n",
       "      <th>TRU</th>\n",
       "      <th>day</th>\n",
       "      <th>event_id</th>\n",
       "      <th>lat</th>\n",
       "      <th>lon</th>\n",
       "      <th>month</th>\n",
       "      <th>protest category</th>\n",
       "      <th>year</th>\n",
       "      <th>infra_dist</th>\n",
       "      <th>social status (A/NA</th>\n",
       "      <th>pop_attrs</th>\n",
       "      <th>infra_area</th>\n",
       "      <th>social_housing</th>\n",
       "      <th>distance</th>\n",
       "      <th>infra_num</th>\n",
       "    </tr>\n",
       "    <tr>\n",
       "      <th>state_2</th>\n",
       "      <th></th>\n",
       "      <th></th>\n",
       "      <th></th>\n",
       "      <th></th>\n",
       "      <th></th>\n",
       "      <th></th>\n",
       "      <th></th>\n",
       "      <th></th>\n",
       "      <th></th>\n",
       "      <th></th>\n",
       "      <th></th>\n",
       "      <th></th>\n",
       "      <th></th>\n",
       "      <th></th>\n",
       "      <th></th>\n",
       "    </tr>\n",
       "  </thead>\n",
       "  <tbody>\n",
       "    <tr>\n",
       "      <th>Andhra Pradesh</th>\n",
       "      <td>8</td>\n",
       "      <td>8</td>\n",
       "      <td>8</td>\n",
       "      <td>8</td>\n",
       "      <td>8</td>\n",
       "      <td>8</td>\n",
       "      <td>8</td>\n",
       "      <td>8</td>\n",
       "      <td>8</td>\n",
       "      <td>8</td>\n",
       "      <td>8</td>\n",
       "      <td>8</td>\n",
       "      <td>8</td>\n",
       "      <td>8</td>\n",
       "      <td>8</td>\n",
       "    </tr>\n",
       "    <tr>\n",
       "      <th>Bihar</th>\n",
       "      <td>4646</td>\n",
       "      <td>4646</td>\n",
       "      <td>4646</td>\n",
       "      <td>4646</td>\n",
       "      <td>4646</td>\n",
       "      <td>4646</td>\n",
       "      <td>4646</td>\n",
       "      <td>4646</td>\n",
       "      <td>4646</td>\n",
       "      <td>4646</td>\n",
       "      <td>4646</td>\n",
       "      <td>4646</td>\n",
       "      <td>4646</td>\n",
       "      <td>4646</td>\n",
       "      <td>4646</td>\n",
       "    </tr>\n",
       "    <tr>\n",
       "      <th>Dadra and Nagar Haveli</th>\n",
       "      <td>3</td>\n",
       "      <td>3</td>\n",
       "      <td>3</td>\n",
       "      <td>3</td>\n",
       "      <td>3</td>\n",
       "      <td>3</td>\n",
       "      <td>3</td>\n",
       "      <td>3</td>\n",
       "      <td>3</td>\n",
       "      <td>3</td>\n",
       "      <td>3</td>\n",
       "      <td>3</td>\n",
       "      <td>3</td>\n",
       "      <td>3</td>\n",
       "      <td>3</td>\n",
       "    </tr>\n",
       "    <tr>\n",
       "      <th>Goa</th>\n",
       "      <td>1410</td>\n",
       "      <td>1410</td>\n",
       "      <td>1410</td>\n",
       "      <td>1410</td>\n",
       "      <td>1410</td>\n",
       "      <td>1410</td>\n",
       "      <td>1410</td>\n",
       "      <td>1410</td>\n",
       "      <td>1410</td>\n",
       "      <td>1410</td>\n",
       "      <td>1410</td>\n",
       "      <td>1410</td>\n",
       "      <td>1410</td>\n",
       "      <td>1410</td>\n",
       "      <td>1410</td>\n",
       "    </tr>\n",
       "    <tr>\n",
       "      <th>Gujarat</th>\n",
       "      <td>7477</td>\n",
       "      <td>7477</td>\n",
       "      <td>7477</td>\n",
       "      <td>7477</td>\n",
       "      <td>7477</td>\n",
       "      <td>7477</td>\n",
       "      <td>7477</td>\n",
       "      <td>7477</td>\n",
       "      <td>7477</td>\n",
       "      <td>7477</td>\n",
       "      <td>7477</td>\n",
       "      <td>7477</td>\n",
       "      <td>7477</td>\n",
       "      <td>7477</td>\n",
       "      <td>7477</td>\n",
       "    </tr>\n",
       "    <tr>\n",
       "      <th>India (general)</th>\n",
       "      <td>896</td>\n",
       "      <td>896</td>\n",
       "      <td>896</td>\n",
       "      <td>896</td>\n",
       "      <td>896</td>\n",
       "      <td>896</td>\n",
       "      <td>896</td>\n",
       "      <td>896</td>\n",
       "      <td>896</td>\n",
       "      <td>896</td>\n",
       "      <td>896</td>\n",
       "      <td>896</td>\n",
       "      <td>896</td>\n",
       "      <td>896</td>\n",
       "      <td>896</td>\n",
       "    </tr>\n",
       "    <tr>\n",
       "      <th>Jharkhand</th>\n",
       "      <td>2</td>\n",
       "      <td>2</td>\n",
       "      <td>2</td>\n",
       "      <td>2</td>\n",
       "      <td>2</td>\n",
       "      <td>2</td>\n",
       "      <td>2</td>\n",
       "      <td>2</td>\n",
       "      <td>2</td>\n",
       "      <td>2</td>\n",
       "      <td>2</td>\n",
       "      <td>2</td>\n",
       "      <td>2</td>\n",
       "      <td>2</td>\n",
       "      <td>2</td>\n",
       "    </tr>\n",
       "    <tr>\n",
       "      <th>Karnataka</th>\n",
       "      <td>7494</td>\n",
       "      <td>7494</td>\n",
       "      <td>7494</td>\n",
       "      <td>7494</td>\n",
       "      <td>7494</td>\n",
       "      <td>7494</td>\n",
       "      <td>7494</td>\n",
       "      <td>7494</td>\n",
       "      <td>7494</td>\n",
       "      <td>7494</td>\n",
       "      <td>7494</td>\n",
       "      <td>7494</td>\n",
       "      <td>7494</td>\n",
       "      <td>7494</td>\n",
       "      <td>7494</td>\n",
       "    </tr>\n",
       "    <tr>\n",
       "      <th>Kerala</th>\n",
       "      <td>2868</td>\n",
       "      <td>2868</td>\n",
       "      <td>2868</td>\n",
       "      <td>2868</td>\n",
       "      <td>2868</td>\n",
       "      <td>2868</td>\n",
       "      <td>2868</td>\n",
       "      <td>2868</td>\n",
       "      <td>2868</td>\n",
       "      <td>2868</td>\n",
       "      <td>2868</td>\n",
       "      <td>2868</td>\n",
       "      <td>2868</td>\n",
       "      <td>2868</td>\n",
       "      <td>2868</td>\n",
       "    </tr>\n",
       "    <tr>\n",
       "      <th>Madhya Pradesh</th>\n",
       "      <td>12</td>\n",
       "      <td>12</td>\n",
       "      <td>12</td>\n",
       "      <td>12</td>\n",
       "      <td>12</td>\n",
       "      <td>12</td>\n",
       "      <td>12</td>\n",
       "      <td>12</td>\n",
       "      <td>12</td>\n",
       "      <td>12</td>\n",
       "      <td>12</td>\n",
       "      <td>12</td>\n",
       "      <td>12</td>\n",
       "      <td>12</td>\n",
       "      <td>12</td>\n",
       "    </tr>\n",
       "    <tr>\n",
       "      <th>Maharashtra</th>\n",
       "      <td>14496</td>\n",
       "      <td>14496</td>\n",
       "      <td>14496</td>\n",
       "      <td>14496</td>\n",
       "      <td>14496</td>\n",
       "      <td>14496</td>\n",
       "      <td>14496</td>\n",
       "      <td>14496</td>\n",
       "      <td>14496</td>\n",
       "      <td>14496</td>\n",
       "      <td>14496</td>\n",
       "      <td>14496</td>\n",
       "      <td>14496</td>\n",
       "      <td>14496</td>\n",
       "      <td>14496</td>\n",
       "    </tr>\n",
       "    <tr>\n",
       "      <th>Rajasthan</th>\n",
       "      <td>1</td>\n",
       "      <td>1</td>\n",
       "      <td>1</td>\n",
       "      <td>1</td>\n",
       "      <td>1</td>\n",
       "      <td>1</td>\n",
       "      <td>1</td>\n",
       "      <td>1</td>\n",
       "      <td>1</td>\n",
       "      <td>1</td>\n",
       "      <td>1</td>\n",
       "      <td>1</td>\n",
       "      <td>1</td>\n",
       "      <td>1</td>\n",
       "      <td>1</td>\n",
       "    </tr>\n",
       "    <tr>\n",
       "      <th>Uttar Pradesh</th>\n",
       "      <td>29</td>\n",
       "      <td>29</td>\n",
       "      <td>29</td>\n",
       "      <td>29</td>\n",
       "      <td>29</td>\n",
       "      <td>29</td>\n",
       "      <td>29</td>\n",
       "      <td>29</td>\n",
       "      <td>29</td>\n",
       "      <td>29</td>\n",
       "      <td>29</td>\n",
       "      <td>29</td>\n",
       "      <td>29</td>\n",
       "      <td>29</td>\n",
       "      <td>29</td>\n",
       "    </tr>\n",
       "    <tr>\n",
       "      <th>West Bengal</th>\n",
       "      <td>26</td>\n",
       "      <td>26</td>\n",
       "      <td>26</td>\n",
       "      <td>26</td>\n",
       "      <td>26</td>\n",
       "      <td>26</td>\n",
       "      <td>26</td>\n",
       "      <td>26</td>\n",
       "      <td>26</td>\n",
       "      <td>26</td>\n",
       "      <td>26</td>\n",
       "      <td>26</td>\n",
       "      <td>26</td>\n",
       "      <td>26</td>\n",
       "      <td>26</td>\n",
       "    </tr>\n",
       "  </tbody>\n",
       "</table>\n",
       "</div>"
      ],
      "text/plain": [
       "                           TRU    day  event_id    lat    lon  month  \\\n",
       "state_2                                                                \n",
       " Andhra Pradesh              8      8         8      8      8      8   \n",
       " Bihar                    4646   4646      4646   4646   4646   4646   \n",
       " Dadra and Nagar Haveli      3      3         3      3      3      3   \n",
       " Goa                      1410   1410      1410   1410   1410   1410   \n",
       " Gujarat                  7477   7477      7477   7477   7477   7477   \n",
       " India (general)           896    896       896    896    896    896   \n",
       " Jharkhand                   2      2         2      2      2      2   \n",
       " Karnataka                7494   7494      7494   7494   7494   7494   \n",
       " Kerala                   2868   2868      2868   2868   2868   2868   \n",
       " Madhya Pradesh             12     12        12     12     12     12   \n",
       " Maharashtra             14496  14496     14496  14496  14496  14496   \n",
       " Rajasthan                   1      1         1      1      1      1   \n",
       " Uttar Pradesh              29     29        29     29     29     29   \n",
       " West Bengal                26     26        26     26     26     26   \n",
       "\n",
       "                         protest category   year  infra_dist  \\\n",
       "state_2                                                        \n",
       " Andhra Pradesh                         8      8           8   \n",
       " Bihar                               4646   4646        4646   \n",
       " Dadra and Nagar Haveli                 3      3           3   \n",
       " Goa                                 1410   1410        1410   \n",
       " Gujarat                             7477   7477        7477   \n",
       " India (general)                      896    896         896   \n",
       " Jharkhand                              2      2           2   \n",
       " Karnataka                           7494   7494        7494   \n",
       " Kerala                              2868   2868        2868   \n",
       " Madhya Pradesh                        12     12          12   \n",
       " Maharashtra                        14496  14496       14496   \n",
       " Rajasthan                              1      1           1   \n",
       " Uttar Pradesh                         29     29          29   \n",
       " West Bengal                           26     26          26   \n",
       "\n",
       "                         social status (A/NA  pop_attrs  infra_area  \\\n",
       "state_2                                                               \n",
       " Andhra Pradesh                            8          8           8   \n",
       " Bihar                                  4646       4646        4646   \n",
       " Dadra and Nagar Haveli                    3          3           3   \n",
       " Goa                                    1410       1410        1410   \n",
       " Gujarat                                7477       7477        7477   \n",
       " India (general)                         896        896         896   \n",
       " Jharkhand                                 2          2           2   \n",
       " Karnataka                              7494       7494        7494   \n",
       " Kerala                                 2868       2868        2868   \n",
       " Madhya Pradesh                           12         12          12   \n",
       " Maharashtra                           14496      14496       14496   \n",
       " Rajasthan                                 1          1           1   \n",
       " Uttar Pradesh                            29         29          29   \n",
       " West Bengal                              26         26          26   \n",
       "\n",
       "                         social_housing  distance  infra_num  \n",
       "state_2                                                       \n",
       " Andhra Pradesh                       8         8          8  \n",
       " Bihar                             4646      4646       4646  \n",
       " Dadra and Nagar Haveli               3         3          3  \n",
       " Goa                               1410      1410       1410  \n",
       " Gujarat                           7477      7477       7477  \n",
       " India (general)                    896       896        896  \n",
       " Jharkhand                            2         2          2  \n",
       " Karnataka                         7494      7494       7494  \n",
       " Kerala                            2868      2868       2868  \n",
       " Madhya Pradesh                      12        12         12  \n",
       " Maharashtra                      14496     14496      14496  \n",
       " Rajasthan                            1         1          1  \n",
       " Uttar Pradesh                       29        29         29  \n",
       " West Bengal                         26        26         26  "
      ]
     },
     "execution_count": 6,
     "metadata": {},
     "output_type": "execute_result"
    }
   ],
   "source": [
    "cluster_data.groupby(['state_2']).count()"
   ]
  },
  {
   "cell_type": "code",
   "execution_count": 7,
   "metadata": {
    "collapsed": true
   },
   "outputs": [],
   "source": [
    "cluster_data_kerala = cluster_data[cluster_data['state_2']==' Kerala']"
   ]
  },
  {
   "cell_type": "code",
   "execution_count": 8,
   "metadata": {},
   "outputs": [
    {
     "data": {
      "text/plain": [
       "(2868, 16)"
      ]
     },
     "execution_count": 8,
     "metadata": {},
     "output_type": "execute_result"
    }
   ],
   "source": [
    "cluster_data_kerala.shape"
   ]
  },
  {
   "cell_type": "code",
   "execution_count": 10,
   "metadata": {
    "collapsed": true
   },
   "outputs": [],
   "source": [
    "cluster_data_kerala.to_csv('kerala_cluster_data.csv')"
   ]
  },
  {
   "cell_type": "code",
   "execution_count": 35,
   "metadata": {
    "collapsed": true
   },
   "outputs": [],
   "source": [
    "df = pd.read_csv('kerala_cluster_data.csv')"
   ]
  },
  {
   "cell_type": "code",
   "execution_count": 29,
   "metadata": {},
   "outputs": [
    {
     "data": {
      "text/plain": [
       "(2868, 17)"
      ]
     },
     "execution_count": 29,
     "metadata": {},
     "output_type": "execute_result"
    }
   ],
   "source": [
    "df.shape"
   ]
  },
  {
   "cell_type": "code",
   "execution_count": 73,
   "metadata": {
    "collapsed": true
   },
   "outputs": [],
   "source": [
    "df.drop(['day_str'],inplace=True,axis=1)"
   ]
  },
  {
   "cell_type": "code",
   "execution_count": 36,
   "metadata": {},
   "outputs": [
    {
     "data": {
      "text/html": [
       "<div>\n",
       "<style>\n",
       "    .dataframe thead tr:only-child th {\n",
       "        text-align: right;\n",
       "    }\n",
       "\n",
       "    .dataframe thead th {\n",
       "        text-align: left;\n",
       "    }\n",
       "\n",
       "    .dataframe tbody tr th {\n",
       "        vertical-align: top;\n",
       "    }\n",
       "</style>\n",
       "<table border=\"1\" class=\"dataframe\">\n",
       "  <thead>\n",
       "    <tr style=\"text-align: right;\">\n",
       "      <th></th>\n",
       "      <th>Unnamed: 0</th>\n",
       "      <th>TRU</th>\n",
       "      <th>day</th>\n",
       "      <th>event_id</th>\n",
       "      <th>lat</th>\n",
       "      <th>lon</th>\n",
       "      <th>month</th>\n",
       "      <th>protest category</th>\n",
       "      <th>state_2</th>\n",
       "      <th>year</th>\n",
       "      <th>infra_dist</th>\n",
       "      <th>social status (A/NA</th>\n",
       "      <th>pop_attrs</th>\n",
       "      <th>infra_area</th>\n",
       "      <th>social_housing</th>\n",
       "      <th>distance</th>\n",
       "      <th>infra_num</th>\n",
       "    </tr>\n",
       "  </thead>\n",
       "  <tbody>\n",
       "    <tr>\n",
       "      <th>0</th>\n",
       "      <td>0</td>\n",
       "      <td>Urban</td>\n",
       "      <td>2</td>\n",
       "      <td>258094576</td>\n",
       "      <td>11.06670</td>\n",
       "      <td>76.0667</td>\n",
       "      <td>7</td>\n",
       "      <td>Appeal</td>\n",
       "      <td>Kerala</td>\n",
       "      <td>2013</td>\n",
       "      <td>0.022133</td>\n",
       "      <td>0.195600</td>\n",
       "      <td>0.005036</td>\n",
       "      <td>0.025578</td>\n",
       "      <td>0.741547</td>\n",
       "      <td>0.000000</td>\n",
       "      <td>0.000000</td>\n",
       "    </tr>\n",
       "    <tr>\n",
       "      <th>1</th>\n",
       "      <td>1</td>\n",
       "      <td>Urban</td>\n",
       "      <td>16</td>\n",
       "      <td>259662992</td>\n",
       "      <td>12.50000</td>\n",
       "      <td>75.0000</td>\n",
       "      <td>7</td>\n",
       "      <td>Appeal</td>\n",
       "      <td>Kerala</td>\n",
       "      <td>2013</td>\n",
       "      <td>0.031802</td>\n",
       "      <td>0.272393</td>\n",
       "      <td>0.037962</td>\n",
       "      <td>0.007007</td>\n",
       "      <td>0.651429</td>\n",
       "      <td>0.044623</td>\n",
       "      <td>0.051617</td>\n",
       "    </tr>\n",
       "    <tr>\n",
       "      <th>2</th>\n",
       "      <td>2</td>\n",
       "      <td>Rural</td>\n",
       "      <td>16</td>\n",
       "      <td>259679155</td>\n",
       "      <td>9.85000</td>\n",
       "      <td>76.9667</td>\n",
       "      <td>7</td>\n",
       "      <td>Assault</td>\n",
       "      <td>Kerala</td>\n",
       "      <td>2013</td>\n",
       "      <td>0.088637</td>\n",
       "      <td>0.195600</td>\n",
       "      <td>0.114337</td>\n",
       "      <td>0.000819</td>\n",
       "      <td>0.663452</td>\n",
       "      <td>0.201116</td>\n",
       "      <td>0.000000</td>\n",
       "    </tr>\n",
       "    <tr>\n",
       "      <th>3</th>\n",
       "      <td>3</td>\n",
       "      <td>Urban</td>\n",
       "      <td>19</td>\n",
       "      <td>268327050</td>\n",
       "      <td>8.88056</td>\n",
       "      <td>76.5917</td>\n",
       "      <td>9</td>\n",
       "      <td>Assault</td>\n",
       "      <td>Kerala</td>\n",
       "      <td>2013</td>\n",
       "      <td>0.013641</td>\n",
       "      <td>0.514929</td>\n",
       "      <td>0.020606</td>\n",
       "      <td>0.001346</td>\n",
       "      <td>0.698491</td>\n",
       "      <td>0.066888</td>\n",
       "      <td>0.151460</td>\n",
       "    </tr>\n",
       "    <tr>\n",
       "      <th>4</th>\n",
       "      <td>4</td>\n",
       "      <td>Rural</td>\n",
       "      <td>19</td>\n",
       "      <td>287435840</td>\n",
       "      <td>10.00000</td>\n",
       "      <td>76.5000</td>\n",
       "      <td>2</td>\n",
       "      <td>Appeal</td>\n",
       "      <td>Kerala</td>\n",
       "      <td>2014</td>\n",
       "      <td>0.043878</td>\n",
       "      <td>0.457674</td>\n",
       "      <td>0.069245</td>\n",
       "      <td>0.000321</td>\n",
       "      <td>0.669672</td>\n",
       "      <td>0.122706</td>\n",
       "      <td>0.000000</td>\n",
       "    </tr>\n",
       "  </tbody>\n",
       "</table>\n",
       "</div>"
      ],
      "text/plain": [
       "   Unnamed: 0    TRU  day   event_id       lat      lon  month  \\\n",
       "0           0  Urban    2  258094576  11.06670  76.0667      7   \n",
       "1           1  Urban   16  259662992  12.50000  75.0000      7   \n",
       "2           2  Rural   16  259679155   9.85000  76.9667      7   \n",
       "3           3  Urban   19  268327050   8.88056  76.5917      9   \n",
       "4           4  Rural   19  287435840  10.00000  76.5000      2   \n",
       "\n",
       "  protest category  state_2  year  infra_dist  social status (A/NA  pop_attrs  \\\n",
       "0           Appeal   Kerala  2013    0.022133             0.195600   0.005036   \n",
       "1           Appeal   Kerala  2013    0.031802             0.272393   0.037962   \n",
       "2          Assault   Kerala  2013    0.088637             0.195600   0.114337   \n",
       "3          Assault   Kerala  2013    0.013641             0.514929   0.020606   \n",
       "4           Appeal   Kerala  2014    0.043878             0.457674   0.069245   \n",
       "\n",
       "   infra_area  social_housing  distance  infra_num  \n",
       "0    0.025578        0.741547  0.000000   0.000000  \n",
       "1    0.007007        0.651429  0.044623   0.051617  \n",
       "2    0.000819        0.663452  0.201116   0.000000  \n",
       "3    0.001346        0.698491  0.066888   0.151460  \n",
       "4    0.000321        0.669672  0.122706   0.000000  "
      ]
     },
     "execution_count": 36,
     "metadata": {},
     "output_type": "execute_result"
    }
   ],
   "source": [
    "df.head()"
   ]
  },
  {
   "cell_type": "code",
   "execution_count": 71,
   "metadata": {
    "collapsed": true
   },
   "outputs": [],
   "source": [
    "df['day'] = df['day'].astype('str')\n",
    "df['month'] = df['month'].astype('str')\n",
    "df['year'] = df['year'].astype('str')"
   ]
  },
  {
   "cell_type": "code",
   "execution_count": 75,
   "metadata": {
    "collapsed": true
   },
   "outputs": [],
   "source": [
    "date =[]\n",
    "for index,row in df.iterrows():\n",
    "    date.append(row['day'] +\"-\"+ row['month'] +\"-\"+ row['year'])"
   ]
  },
  {
   "cell_type": "code",
   "execution_count": 77,
   "metadata": {
    "collapsed": true
   },
   "outputs": [],
   "source": [
    "df['date'] = date"
   ]
  },
  {
   "cell_type": "code",
   "execution_count": 85,
   "metadata": {
    "collapsed": true
   },
   "outputs": [],
   "source": [
    "df.drop(['year'],inplace=True,axis=1)"
   ]
  },
  {
   "cell_type": "code",
   "execution_count": 2,
   "metadata": {
    "collapsed": true
   },
   "outputs": [],
   "source": [
    "from datetime import datetime"
   ]
  },
  {
   "cell_type": "code",
   "execution_count": 80,
   "metadata": {
    "collapsed": true
   },
   "outputs": [],
   "source": [
    "d1 = datetime.strptime('2-7-2013', \"%d-%m-%Y\")\n",
    "d2 = datetime.strptime('19-9-2013', \"%d-%m-%Y\")"
   ]
  },
  {
   "cell_type": "code",
   "execution_count": 82,
   "metadata": {},
   "outputs": [
    {
     "data": {
      "text/plain": [
       "79"
      ]
     },
     "execution_count": 82,
     "metadata": {},
     "output_type": "execute_result"
    }
   ],
   "source": [
    "abs((d1 - d2).days)"
   ]
  },
  {
   "cell_type": "code",
   "execution_count": 3,
   "metadata": {
    "collapsed": true
   },
   "outputs": [],
   "source": [
    "from haversine import haversine"
   ]
  },
  {
   "cell_type": "code",
   "execution_count": 88,
   "metadata": {},
   "outputs": [
    {
     "data": {
      "text/plain": [
       "197.184731520222"
      ]
     },
     "execution_count": 88,
     "metadata": {},
     "output_type": "execute_result"
    }
   ],
   "source": [
    "haversine((11.06670,76.0667),(12.50000,75.0000))"
   ]
  },
  {
   "cell_type": "code",
   "execution_count": 90,
   "metadata": {
    "collapsed": true
   },
   "outputs": [],
   "source": [
    "a = np.zeros((3,3))"
   ]
  },
  {
   "cell_type": "code",
   "execution_count": 92,
   "metadata": {
    "collapsed": true
   },
   "outputs": [],
   "source": [
    "a = [[0,0],[1,0]]"
   ]
  },
  {
   "cell_type": "code",
   "execution_count": 96,
   "metadata": {
    "collapsed": true
   },
   "outputs": [],
   "source": [
    "a = np.array(a)"
   ]
  },
  {
   "cell_type": "code",
   "execution_count": 98,
   "metadata": {},
   "outputs": [
    {
     "data": {
      "text/plain": [
       "array([[0, 1],\n",
       "       [1, 0]])"
      ]
     },
     "execution_count": 98,
     "metadata": {},
     "output_type": "execute_result"
    }
   ],
   "source": [
    "a+a.transpose()"
   ]
  },
  {
   "cell_type": "code",
   "execution_count": 145,
   "metadata": {
    "collapsed": true
   },
   "outputs": [],
   "source": [
    "df_sub = df"
   ]
  },
  {
   "cell_type": "code",
   "execution_count": 146,
   "metadata": {},
   "outputs": [
    {
     "data": {
      "text/plain": [
       "(2868, 11)"
      ]
     },
     "execution_count": 146,
     "metadata": {},
     "output_type": "execute_result"
    }
   ],
   "source": [
    "df_sub.shape"
   ]
  },
  {
   "cell_type": "code",
   "execution_count": 147,
   "metadata": {
    "collapsed": true
   },
   "outputs": [],
   "source": [
    "space = np.zeros((df_sub.shape[0],df_sub.shape[0]))\n",
    "spatio_temporal = np.zeros((df_sub.shape[0],df_sub.shape[0]))\n",
    "all_attrs = np.zeros((df_sub.shape[0],df_sub.shape[0]))"
   ]
  },
  {
   "cell_type": "code",
   "execution_count": 149,
   "metadata": {
    "collapsed": true
   },
   "outputs": [],
   "source": [
    "for i in range(1,df_sub.shape[0]):\n",
    "    for j in range(0,i):\n",
    "        dist,days,diff=calc_dist(df_sub.iloc[i],df_sub.iloc[j])\n",
    "        space[i,j] = dist\n",
    "        spatio_temporal[i,j] = (dist+days)/2\n",
    "        all_attrs[i,j] = (dist+days+diff)/3"
   ]
  },
  {
   "cell_type": "code",
   "execution_count": 148,
   "metadata": {
    "collapsed": true
   },
   "outputs": [],
   "source": [
    "def calc_dist(event1,event2):\n",
    "    dmax = 3000\n",
    "    tmax = 2550\n",
    "    dist = haversine((event1['lat'],event1['lon']),(event2['lat'],event2['lon']))\n",
    "    d1 = datetime.strptime(event1['date'], \"%d-%m-%Y\")\n",
    "    d2 = datetime.strptime(event2['date'], \"%d-%m-%Y\") \n",
    "    days = abs((d1 - d2).days)\n",
    "    a = ['social status (A/NA','pop_attrs','infra_area','social_housing','distance','infra_num']\n",
    "    diff = 0\n",
    "    for i in a:\n",
    "        diff = diff + abs(event1[i] - event2[i])\n",
    "    diff = diff/len(a)\n",
    "    dist = dist/dmax\n",
    "    days = days/tmax\n",
    "    return dist, days, diff"
   ]
  },
  {
   "cell_type": "code",
   "execution_count": 129,
   "metadata": {},
   "outputs": [
    {
     "name": "stdout",
     "output_type": "stream",
     "text": [
      "1 0\n",
      "2 0\n",
      "2 1\n"
     ]
    }
   ],
   "source": [
    "for i in range(1,df_sub.shape[0]):\n",
    "    for j in range(0,(i)):\n",
    "        print(i,j)"
   ]
  },
  {
   "cell_type": "code",
   "execution_count": 151,
   "metadata": {},
   "outputs": [
    {
     "data": {
      "text/plain": [
       "(2868, 2868)"
      ]
     },
     "execution_count": 151,
     "metadata": {},
     "output_type": "execute_result"
    }
   ],
   "source": [
    "all_attrs.shape"
   ]
  },
  {
   "cell_type": "code",
   "execution_count": 152,
   "metadata": {
    "collapsed": true
   },
   "outputs": [],
   "source": [
    "space = space+space.transpose()\n",
    "spatio_temporal = spatio_temporal+spatio_temporal.transpose()\n",
    "all_attrs = all_attrs + all_attrs.transpose()"
   ]
  },
  {
   "cell_type": "code",
   "execution_count": 195,
   "metadata": {
    "collapsed": true
   },
   "outputs": [],
   "source": [
    "np.save('space.npy',space)"
   ]
  },
  {
   "cell_type": "code",
   "execution_count": 196,
   "metadata": {
    "collapsed": true
   },
   "outputs": [],
   "source": [
    "np.save('spatio_temporal.npy',spatio_temporal)"
   ]
  },
  {
   "cell_type": "code",
   "execution_count": 197,
   "metadata": {
    "collapsed": true
   },
   "outputs": [],
   "source": [
    "np.save('all_attrs',all_attrs)"
   ]
  },
  {
   "cell_type": "code",
   "execution_count": 136,
   "metadata": {
    "collapsed": true
   },
   "outputs": [],
   "source": [
    "np.savetxt('test.csv',all_attrs,delimiter=',')"
   ]
  },
  {
   "cell_type": "code",
   "execution_count": 2,
   "metadata": {
    "collapsed": true
   },
   "outputs": [],
   "source": [
    "space = np.load('space.npy')\n",
    "spatio_temporal = np.load('spatio_temporal.npy')\n",
    "all_attrs = np.load('all_attrs.npy')"
   ]
  },
  {
   "cell_type": "code",
   "execution_count": 3,
   "metadata": {
    "collapsed": true
   },
   "outputs": [],
   "source": [
    "from sklearn.cluster import DBSCAN"
   ]
  },
  {
   "cell_type": "code",
   "execution_count": 4,
   "metadata": {
    "collapsed": true
   },
   "outputs": [],
   "source": [
    "db_space = DBSCAN(eps=0.005, min_samples = 4, metric='precomputed')"
   ]
  },
  {
   "cell_type": "code",
   "execution_count": 5,
   "metadata": {},
   "outputs": [
    {
     "data": {
      "text/plain": [
       "DBSCAN(algorithm='auto', eps=0.005, leaf_size=30, metric='precomputed',\n",
       "    metric_params=None, min_samples=4, n_jobs=1, p=None)"
      ]
     },
     "execution_count": 5,
     "metadata": {},
     "output_type": "execute_result"
    }
   ],
   "source": [
    "db_space.fit(space)"
   ]
  },
  {
   "cell_type": "code",
   "execution_count": 6,
   "metadata": {
    "collapsed": true
   },
   "outputs": [],
   "source": [
    "db_st = DBSCAN(eps=0.005, min_samples = 4, metric='precomputed')"
   ]
  },
  {
   "cell_type": "code",
   "execution_count": 7,
   "metadata": {},
   "outputs": [
    {
     "data": {
      "text/plain": [
       "DBSCAN(algorithm='auto', eps=0.005, leaf_size=30, metric='precomputed',\n",
       "    metric_params=None, min_samples=4, n_jobs=1, p=None)"
      ]
     },
     "execution_count": 7,
     "metadata": {},
     "output_type": "execute_result"
    }
   ],
   "source": [
    "db_st.fit(spatio_temporal)"
   ]
  },
  {
   "cell_type": "code",
   "execution_count": 8,
   "metadata": {
    "collapsed": true
   },
   "outputs": [],
   "source": [
    "db_all = DBSCAN(eps=0.005, min_samples = 4, metric='precomputed')"
   ]
  },
  {
   "cell_type": "code",
   "execution_count": 9,
   "metadata": {},
   "outputs": [
    {
     "data": {
      "text/plain": [
       "DBSCAN(algorithm='auto', eps=0.005, leaf_size=30, metric='precomputed',\n",
       "    metric_params=None, min_samples=4, n_jobs=1, p=None)"
      ]
     },
     "execution_count": 9,
     "metadata": {},
     "output_type": "execute_result"
    }
   ],
   "source": [
    "db_all.fit(all_attrs)"
   ]
  },
  {
   "cell_type": "code",
   "execution_count": 10,
   "metadata": {
    "collapsed": true
   },
   "outputs": [],
   "source": [
    "labels_space = db_space.labels_"
   ]
  },
  {
   "cell_type": "code",
   "execution_count": 11,
   "metadata": {
    "collapsed": true
   },
   "outputs": [],
   "source": [
    "labels_st = db_st.labels_"
   ]
  },
  {
   "cell_type": "code",
   "execution_count": 12,
   "metadata": {
    "collapsed": true
   },
   "outputs": [],
   "source": [
    "labels_all = db_all.labels_"
   ]
  },
  {
   "cell_type": "code",
   "execution_count": 13,
   "metadata": {
    "collapsed": true
   },
   "outputs": [],
   "source": [
    "no_clusters_st = len(set(labels_st)) - (1 if -1 in labels_st else 0)"
   ]
  },
  {
   "cell_type": "code",
   "execution_count": 14,
   "metadata": {
    "collapsed": true
   },
   "outputs": [],
   "source": [
    "no_clusters_space = len(set(labels_space)) - (1 if -1 in labels_space else 0)"
   ]
  },
  {
   "cell_type": "code",
   "execution_count": 15,
   "metadata": {
    "collapsed": true
   },
   "outputs": [],
   "source": [
    "no_clusters_all = len(set(labels_all)) - (1 if -1 in labels_all else 0)"
   ]
  },
  {
   "cell_type": "code",
   "execution_count": 16,
   "metadata": {},
   "outputs": [
    {
     "data": {
      "text/plain": [
       "24"
      ]
     },
     "execution_count": 16,
     "metadata": {},
     "output_type": "execute_result"
    }
   ],
   "source": [
    "no_clusters_space"
   ]
  },
  {
   "cell_type": "code",
   "execution_count": 17,
   "metadata": {},
   "outputs": [
    {
     "data": {
      "text/plain": [
       "96"
      ]
     },
     "execution_count": 17,
     "metadata": {},
     "output_type": "execute_result"
    }
   ],
   "source": [
    "no_clusters_st"
   ]
  },
  {
   "cell_type": "code",
   "execution_count": 18,
   "metadata": {},
   "outputs": [
    {
     "data": {
      "text/plain": [
       "96"
      ]
     },
     "execution_count": 18,
     "metadata": {},
     "output_type": "execute_result"
    }
   ],
   "source": [
    "no_clusters_all"
   ]
  },
  {
   "cell_type": "code",
   "execution_count": 177,
   "metadata": {
    "collapsed": true
   },
   "outputs": [],
   "source": [
    "#np.nonzero(labels_st == 0)[0]"
   ]
  },
  {
   "cell_type": "code",
   "execution_count": 19,
   "metadata": {
    "collapsed": true
   },
   "outputs": [],
   "source": [
    "from collections import Counter"
   ]
  },
  {
   "cell_type": "code",
   "execution_count": 21,
   "metadata": {
    "collapsed": true
   },
   "outputs": [],
   "source": [
    "labels_st_count = Counter(labels_st)"
   ]
  },
  {
   "cell_type": "code",
   "execution_count": 20,
   "metadata": {
    "collapsed": true
   },
   "outputs": [],
   "source": [
    "labels_s_count = Counter(labels_space)"
   ]
  },
  {
   "cell_type": "code",
   "execution_count": 29,
   "metadata": {},
   "outputs": [],
   "source": [
    "labels_all_count = Counter(labels_all)"
   ]
  },
  {
   "cell_type": "code",
   "execution_count": null,
   "metadata": {
    "collapsed": true
   },
   "outputs": [],
   "source": []
  },
  {
   "cell_type": "code",
   "execution_count": 31,
   "metadata": {},
   "outputs": [
    {
     "data": {
      "text/plain": [
       "[(-1, 997), (2, 266)]"
      ]
     },
     "execution_count": 31,
     "metadata": {},
     "output_type": "execute_result"
    }
   ],
   "source": [
    "labels_all_count.most_common(2)"
   ]
  },
  {
   "cell_type": "code",
   "execution_count": 23,
   "metadata": {},
   "outputs": [
    {
     "data": {
      "text/plain": [
       "[(-1, 487), (8, 482), (9, 482), (10, 314)]"
      ]
     },
     "execution_count": 23,
     "metadata": {},
     "output_type": "execute_result"
    }
   ],
   "source": [
    "labels_st_count.most_common(4)"
   ]
  },
  {
   "cell_type": "code",
   "execution_count": 22,
   "metadata": {},
   "outputs": [
    {
     "data": {
      "text/plain": [
       "[(4, 638)]"
      ]
     },
     "execution_count": 22,
     "metadata": {},
     "output_type": "execute_result"
    }
   ],
   "source": [
    "labels_s_count.most_common(2)"
   ]
  },
  {
   "cell_type": "code",
   "execution_count": 32,
   "metadata": {},
   "outputs": [],
   "source": [
    "cluster_all_2 = np.where(labels_all==2)[0]"
   ]
  },
  {
   "cell_type": "code",
   "execution_count": 26,
   "metadata": {},
   "outputs": [
    {
     "data": {
      "text/plain": [
       "(7,)"
      ]
     },
     "execution_count": 26,
     "metadata": {},
     "output_type": "execute_result"
    }
   ],
   "source": [
    "cluster_s_1.shape"
   ]
  },
  {
   "cell_type": "code",
   "execution_count": 33,
   "metadata": {
    "collapsed": true
   },
   "outputs": [],
   "source": [
    "df_cluster_all_2 = pd.DataFrame(columns=['lat','lon'])"
   ]
  },
  {
   "cell_type": "code",
   "execution_count": 37,
   "metadata": {},
   "outputs": [],
   "source": [
    "j=0\n",
    "for i in cluster_all_2:\n",
    "   df_cluster_all_2.loc[j] =  [df.iloc[i]['lat'],df.iloc[i]['lon']]\n",
    "   j=j+1"
   ]
  },
  {
   "cell_type": "code",
   "execution_count": 38,
   "metadata": {
    "collapsed": true
   },
   "outputs": [],
   "source": [
    "import folium"
   ]
  },
  {
   "cell_type": "code",
   "execution_count": 39,
   "metadata": {
    "collapsed": true
   },
   "outputs": [],
   "source": [
    "mapit = folium.Map(location=[20.5937, 78.9629],zoom_start=5)"
   ]
  },
  {
   "cell_type": "code",
   "execution_count": 40,
   "metadata": {
    "collapsed": true
   },
   "outputs": [],
   "source": [
    "for index,row in df_cluster_all_2.iterrows():\n",
    "    folium.Marker( location=[ row['lat'], row['lon'] ]).add_to( mapit )"
   ]
  },
  {
   "cell_type": "code",
   "execution_count": 41,
   "metadata": {
    "collapsed": true
   },
   "outputs": [],
   "source": [
    "mapit.save( 'cluster_all_2.html')"
   ]
  },
  {
   "cell_type": "code",
   "execution_count": null,
   "metadata": {
    "collapsed": true
   },
   "outputs": [],
   "source": []
  },
  {
   "cell_type": "code",
   "execution_count": null,
   "metadata": {
    "collapsed": true
   },
   "outputs": [],
   "source": []
  }
 ],
 "metadata": {
  "kernelspec": {
   "display_name": "Python 3",
   "language": "python",
   "name": "python3"
  },
  "language_info": {
   "codemirror_mode": {
    "name": "ipython",
    "version": 3
   },
   "file_extension": ".py",
   "mimetype": "text/x-python",
   "name": "python",
   "nbconvert_exporter": "python",
   "pygments_lexer": "ipython3",
   "version": "3.6.2"
  }
 },
 "nbformat": 4,
 "nbformat_minor": 2
}
