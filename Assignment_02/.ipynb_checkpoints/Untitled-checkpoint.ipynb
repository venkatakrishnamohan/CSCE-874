{
 "cells": [
  {
   "cell_type": "code",
   "execution_count": 31,
   "metadata": {
    "collapsed": true
   },
   "outputs": [],
   "source": [
    "import numpy as np\n",
    "import matplotlib.pyplot as plt\n",
    "import seaborn as sns\n",
    "import pandas as pd\n",
    "%matplotlib inline"
   ]
  },
  {
   "cell_type": "code",
   "execution_count": 3,
   "metadata": {
    "collapsed": true
   },
   "outputs": [],
   "source": [
    "k = np.arange(1,50)"
   ]
  },
  {
   "cell_type": "code",
   "execution_count": 4,
   "metadata": {},
   "outputs": [
    {
     "data": {
      "text/plain": [
       "array([ 1,  2,  3,  4,  5,  6,  7,  8,  9, 10, 11, 12, 13, 14, 15, 16, 17,\n",
       "       18, 19, 20, 21, 22, 23, 24, 25, 26, 27, 28, 29, 30, 31, 32, 33, 34,\n",
       "       35, 36, 37, 38, 39, 40, 41, 42, 43, 44, 45, 46, 47, 48, 49])"
      ]
     },
     "execution_count": 4,
     "metadata": {},
     "output_type": "execute_result"
    }
   ],
   "source": [
    "k"
   ]
  },
  {
   "cell_type": "code",
   "execution_count": 6,
   "metadata": {
    "collapsed": true
   },
   "outputs": [],
   "source": [
    "runtimes = [10410302,\n",
    "4496440,\n",
    "2508967,\n",
    "1814924,\n",
    "1415154,\n",
    "1595478,\n",
    "1565654,\n",
    "1798096,\n",
    "1762183,\n",
    "2327643,\n",
    "3429070,\n",
    "3474843,\n",
    "3458263,\n",
    "1257149,\n",
    "1282329,\n",
    "1769181,\n",
    "1270834,\n",
    "1717126,\n",
    "2400039,\n",
    "2498391,\n",
    "1379796,\n",
    "1501684,\n",
    "2628445,\n",
    "2644154,\n",
    "4258091,\n",
    "4739577,\n",
    "4285656,\n",
    "2534022,\n",
    "2810909,\n",
    "2091593,\n",
    "2176803,\n",
    "2320030,\n",
    "5312551,\n",
    "4550607,\n",
    "3787746,\n",
    "3880094,\n",
    "3063163,\n",
    "2123461,\n",
    "2301253,\n",
    "2797935,\n",
    "3031609,\n",
    "3064021,\n",
    "3714234,\n",
    "3045561,\n",
    "3164787,\n",
    "3053548,\n",
    "2757204,\n",
    "2924565,\n",
    "2561748]"
   ]
  },
  {
   "cell_type": "code",
   "execution_count": 7,
   "metadata": {},
   "outputs": [
    {
     "data": {
      "text/plain": [
       "[<matplotlib.lines.Line2D at 0x10f497908>]"
      ]
     },
     "execution_count": 7,
     "metadata": {},
     "output_type": "execute_result"
    },
    {
     "data": {
      "image/png": "[encoded data removed]",
      "text/plain": [
       "<matplotlib.figure.Figure at 0x10efffcf8>"
      ]
     },
     "metadata": {},
     "output_type": "display_data"
    }
   ],
   "source": [
    "plt.plot(k,runtimes)"
   ]
  },
  {
   "cell_type": "code",
   "execution_count": 8,
   "metadata": {
    "collapsed": true
   },
   "outputs": [],
   "source": [
    "runtimes2 = [12112599,\n",
    "4787197,\n",
    "2593838,\n",
    "2019363,\n",
    "1387148,\n",
    "1534716,\n",
    "1550109,\n",
    "1619214,\n",
    "1689682,\n",
    "1822595,\n",
    "2125083,\n",
    "2071782,\n",
    "3283805,\n",
    "2007251,\n",
    "1727154,\n",
    "2340288,\n",
    "2362752,\n",
    "2214087,\n",
    "2363502,\n",
    "2419741,\n",
    "2435026,\n",
    "2503793,\n",
    "4775999,\n",
    "4734113,\n",
    "4338539,\n",
    "4590474,\n",
    "4603689,\n",
    "3655132,\n",
    "5442761,\n",
    "3631701,\n",
    "3701029,\n",
    "3353424,\n",
    "4627566,\n",
    "4869091,\n",
    "2970214,\n",
    "2981970,\n",
    "3357058,\n",
    "2717670,\n",
    "2702947,\n",
    "2620443,\n",
    "1813500,\n",
    "3327079,\n",
    "3107738,\n",
    "2750433,\n",
    "2827374,\n",
    "2794051,\n",
    "2126618,\n",
    "2463567,\n",
    "2333967]"
   ]
  },
  {
   "cell_type": "code",
   "execution_count": 9,
   "metadata": {},
   "outputs": [
    {
     "data": {
      "text/plain": [
       "[<matplotlib.lines.Line2D at 0x10f624978>]"
      ]
     },
     "execution_count": 9,
     "metadata": {},
     "output_type": "execute_result"
    },
    {
     "data": {
      "image/png": "[encoded data removed]",
      "text/plain": [
       "<matplotlib.figure.Figure at 0x10f49e438>"
      ]
     },
     "metadata": {},
     "output_type": "display_data"
    }
   ],
   "source": [
    "plt.plot(k,runtimes2)"
   ]
  },
  {
   "cell_type": "code",
   "execution_count": 10,
   "metadata": {
    "collapsed": true
   },
   "outputs": [],
   "source": [
    "runtimes3 = [11260453,\n",
    "6283000,\n",
    "2678103,\n",
    "1809180,\n",
    "1410663,\n",
    "1539479,\n",
    "1721076,\n",
    "1787736,\n",
    "1698999,\n",
    "2012396,\n",
    "3007445,\n",
    "3459202,\n",
    "2434930,\n",
    "1481648,\n",
    "1534510,\n",
    "2141898,\n",
    "2374770,\n",
    "2393178,\n",
    "2376348,\n",
    "2470882,\n",
    "1570052,\n",
    "1493329,\n",
    "1443834,\n",
    "1479971,\n",
    "2444158,\n",
    "2511796,\n",
    "2477361,\n",
    "2618093,\n",
    "2645615,\n",
    "2374983,\n",
    "2101548,\n",
    "2786545,\n",
    "2076902,\n",
    "2910771,\n",
    "2122422,\n",
    "4148247,\n",
    "1852644,\n",
    "1428722,\n",
    "1600317,\n",
    "1314879,\n",
    "2186911,\n",
    "1318041,\n",
    "2093367,\n",
    "2463266,\n",
    "2670968,\n",
    "3207590,\n",
    "2077838,\n",
    "1699131,\n",
    "2286791]"
   ]
  },
  {
   "cell_type": "code",
   "execution_count": 11,
   "metadata": {},
   "outputs": [
    {
     "data": {
      "text/plain": [
       "[<matplotlib.lines.Line2D at 0x10f2b8a20>]"
      ]
     },
     "execution_count": 11,
     "metadata": {},
     "output_type": "execute_result"
    },
    {
     "data": {
      "image/png": "[encoded data removed]",
      "text/plain": [
       "<matplotlib.figure.Figure at 0x10f442b00>"
      ]
     },
     "metadata": {},
     "output_type": "display_data"
    }
   ],
   "source": [
    "plt.plot(k,runtimes3)"
   ]
  },
  {
   "cell_type": "code",
   "execution_count": 12,
   "metadata": {
    "collapsed": true
   },
   "outputs": [],
   "source": [
    "runtime4 = [10942168,\n",
    "5710198,\n",
    "2539310,\n",
    "1790067,\n",
    "1480507,\n",
    "1665071,\n",
    "1655467,\n",
    "1694007,\n",
    "1809890,\n",
    "1905502,\n",
    "3424473,\n",
    "3507515,\n",
    "2471660,\n",
    "1409148,\n",
    "1327217,\n",
    "1634283,\n",
    "2334925,\n",
    "2039029,\n",
    "1316939,\n",
    "1337424,\n",
    "1367429,\n",
    "1519445,\n",
    "1441354,\n",
    "1510330,\n",
    "1575685,\n",
    "1524482,\n",
    "1566060,\n",
    "1807025,\n",
    "2548686,\n",
    "2723774,\n",
    "2810150,\n",
    "4694166,\n",
    "2822474,\n",
    "2929419,\n",
    "2935706,\n",
    "2806692,\n",
    "4362752,\n",
    "2503040,\n",
    "2437614,\n",
    "1811196,\n",
    "3027016,\n",
    "3188841,\n",
    "3073439,\n",
    "3552172,\n",
    "1703971,\n",
    "1675693,\n",
    "1693629,\n",
    "1943125,\n",
    "1873801,\n",
    "]"
   ]
  },
  {
   "cell_type": "code",
   "execution_count": 13,
   "metadata": {},
   "outputs": [
    {
     "data": {
      "text/plain": [
       "[<matplotlib.lines.Line2D at 0x10f3a19e8>]"
      ]
     },
     "execution_count": 13,
     "metadata": {},
     "output_type": "execute_result"
    },
    {
     "data": {
      "image/png": "[encoded data removed]",
      "text/plain": [
       "<matplotlib.figure.Figure at 0x10f1dcc50>"
      ]
     },
     "metadata": {},
     "output_type": "display_data"
    }
   ],
   "source": [
    "plt.plot(k,runtime4)"
   ]
  },
  {
   "cell_type": "code",
   "execution_count": 14,
   "metadata": {
    "collapsed": true
   },
   "outputs": [],
   "source": [
    "sse = [41.138172022977784,\n",
    "14.276092234407084,\n",
    "10.639344284108455,\n",
    "10.639344284108455,\n",
    "10.639344284108455,\n",
    "13.834564436016663,\n",
    "13.502647868813899,\n",
    "12.91225122391856,\n",
    "11.432850415063417,\n",
    "11.432850415063417,\n",
    "11.432850415063417,\n",
    "10.045981971509763,\n",
    "10.045981971509763,\n",
    "10.045981971509763,\n",
    "10.045981971509763,\n",
    "9.677610359249751,\n",
    "9.677610359249751,\n",
    "9.677610359249751,\n",
    "9.677610359249751,\n",
    "9.5210179058724,\n",
    "9.5210179058724,\n",
    "9.329385578027944,\n",
    "3.3462113079870486,\n",
    "3.3462113079870486,\n",
    "3.026740930655038,\n",
    "2.6083265583867314,\n",
    "2.5982481906831403,\n",
    "2.716746987683939,\n",
    "2.716746987683939,\n",
    "2.716746987683939,\n",
    "2.671460297744124,\n",
    "2.3307280114527162,\n",
    "2.4056634954460585,\n",
    "2.191953055621054,\n",
    "2.1266306252928247,\n",
    "2.1266306252928247,\n",
    "2.1266306252928247,\n",
    "2.1266306252928247,\n",
    "2.1266306252928247,\n",
    "2.1142340869340357,\n",
    "2.0427484364827313,\n",
    "2.0427484364827313,\n",
    "2.0427484364827313,\n",
    "1.8873234743104708,\n",
    "1.8873234743104708,\n",
    "1.8873234743104708,\n",
    "1.8873234743104708,\n",
    "1.8873234743104708,\n",
    "1.8873234743104708]"
   ]
  },
  {
   "cell_type": "code",
   "execution_count": 15,
   "metadata": {},
   "outputs": [
    {
     "data": {
      "text/plain": [
       "[<matplotlib.lines.Line2D at 0x10f483320>]"
      ]
     },
     "execution_count": 15,
     "metadata": {},
     "output_type": "execute_result"
    },
    {
     "data": {
      "image/png": "[encoded data removed]",
      "text/plain": [
       "<matplotlib.figure.Figure at 0x10f351da0>"
      ]
     },
     "metadata": {},
     "output_type": "display_data"
    }
   ],
   "source": [
    "plt.plot(k,sse)"
   ]
  },
  {
   "cell_type": "code",
   "execution_count": 16,
   "metadata": {
    "collapsed": true
   },
   "outputs": [],
   "source": [
    "sse2 = [41.138172022977784,\n",
    "12.564096393100744,\n",
    "8.543260490590459,\n",
    "8.543260490590459,\n",
    "8.543260490590459,\n",
    "8.553522187372682,\n",
    "5.883199570465313,\n",
    "5.347586397311899,\n",
    "5.734698642815808,\n",
    "5.734698642815808,\n",
    "5.734698642815808,\n",
    "5.249197474526156,\n",
    "5.249197474526156,\n",
    "5.249197474526156,\n",
    "5.249197474526156,\n",
    "4.734100735216627,\n",
    "4.734100735216627,\n",
    "4.734100735216627,\n",
    "4.734100735216627,\n",
    "4.5907596211513475,\n",
    "4.5907596211513475,\n",
    "4.314344887437041,\n",
    "3.3462113079870486,\n",
    "3.3462113079870486,\n",
    "3.026740930655038,\n",
    "2.6083265583867314,\n",
    "2.5982481906831403,\n",
    "2.716746987683939,\n",
    "2.716746987683939,\n",
    "2.716746987683939,\n",
    "2.671460297744124,\n",
    "2.3307280114527162,\n",
    "2.4056634954460585,\n",
    "2.191953055621054,\n",
    "2.1266306252928247,\n",
    "2.1266306252928247,\n",
    "2.1266306252928247,\n",
    "2.1266306252928247,\n",
    "2.1266306252928247,\n",
    "2.1142340869340357,\n",
    "2.0427484364827313,\n",
    "2.0427484364827313,\n",
    "2.0427484364827313,\n",
    "1.8873234743104708,\n",
    "1.8873234743104708,\n",
    "1.8873234743104708,\n",
    "1.8873234743104708,\n",
    "1.8873234743104708,\n",
    "1.8873234743104708]\n"
   ]
  },
  {
   "cell_type": "code",
   "execution_count": 17,
   "metadata": {},
   "outputs": [
    {
     "data": {
      "text/plain": [
       "[<matplotlib.lines.Line2D at 0x10f759438>]"
      ]
     },
     "execution_count": 17,
     "metadata": {},
     "output_type": "execute_result"
    },
    {
     "data": {
      "image/png": "[encoded data removed]",
      "text/plain": [
       "<matplotlib.figure.Figure at 0x10f27f5f8>"
      ]
     },
     "metadata": {},
     "output_type": "display_data"
    }
   ],
   "source": [
    "plt.plot(k,sse2)"
   ]
  },
  {
   "cell_type": "code",
   "execution_count": 18,
   "metadata": {
    "collapsed": true
   },
   "outputs": [],
   "source": [
    "sse3 = [41.138172022977784,\n",
    "14.276092234407084,\n",
    "10.639344284108455,\n",
    "10.639344284108455,\n",
    "10.639344284108455,\n",
    "13.834564436016663,\n",
    "13.502647868813899,\n",
    "12.91225122391856,\n",
    "11.432850415063417,\n",
    "11.432850415063417,\n",
    "11.432850415063417,\n",
    "10.045981971509763,\n",
    "10.045981971509763,\n",
    "10.045981971509763,\n",
    "10.045981971509763,\n",
    "9.677610359249751,\n",
    "9.677610359249751,\n",
    "9.677610359249751,\n",
    "9.677610359249751,\n",
    "9.5210179058724,\n",
    "9.5210179058724,\n",
    "9.329385578027944,\n",
    "3.3462113079870486,\n",
    "3.3462113079870486,\n",
    "3.026740930655038,\n",
    "2.6083265583867314,\n",
    "2.5982481906831403,\n",
    "2.716746987683939,\n",
    "2.716746987683939,\n",
    "2.716746987683939,\n",
    "2.671460297744124,\n",
    "2.3307280114527162,\n",
    "2.4056634954460585,\n",
    "2.191953055621054,\n",
    "2.1266306252928247,\n",
    "2.1266306252928247,\n",
    "2.1266306252928247,\n",
    "2.1266306252928247,\n",
    "2.1266306252928247,\n",
    "2.1142340869340357,\n",
    "2.0427484364827313,\n",
    "2.0427484364827313,\n",
    "2.0427484364827313,\n",
    "1.8873234743104708,\n",
    "1.8873234743104708,\n",
    "1.8873234743104708,\n",
    "1.8873234743104708,\n",
    "1.8873234743104708,\n",
    "1.8873234743104708]"
   ]
  },
  {
   "cell_type": "code",
   "execution_count": 19,
   "metadata": {},
   "outputs": [
    {
     "data": {
      "text/plain": [
       "[<matplotlib.lines.Line2D at 0x10f81d160>]"
      ]
     },
     "execution_count": 19,
     "metadata": {},
     "output_type": "execute_result"
    },
    {
     "data": {
      "image/png": "[encoded data removed]",
      "text/plain": [
       "<matplotlib.figure.Figure at 0x10f4f9cc0>"
      ]
     },
     "metadata": {},
     "output_type": "display_data"
    }
   ],
   "source": [
    "plt.plot(k,sse3)"
   ]
  },
  {
   "cell_type": "code",
   "execution_count": 20,
   "metadata": {
    "collapsed": true
   },
   "outputs": [],
   "source": [
    "runtime_size = [12255104,\n",
    "2150568,\n",
    "2168099,\n",
    "1854391,\n",
    "1849026,\n",
    "2171313,\n",
    "1943930,\n",
    "1187649,\n",
    "1232112,\n",
    "2377733,\n",
    "2254491,\n",
    "1646385,\n",
    "4524484,\n",
    "1282618,\n",
    "1232110,\n",
    "2025344,\n",
    "1373296,\n",
    "1282628,\n",
    "2420659,\n",
    "1184805,\n",
    "1048684,\n",
    "1013172,\n",
    "1233487,\n",
    "1020461,\n",
    "995073,\n",
    "2931125,\n",
    "932755,\n",
    "985549,\n",
    "3514617,\n",
    "1019223,\n",
    "910891,\n",
    "1053028,\n",
    "985305,\n",
    "993216,\n",
    "1090417,\n",
    "9962184,\n",
    "1044630,\n",
    "1232716,\n",
    "1206066,\n",
    "1214413,\n",
    "1148237,\n",
    "708829,\n",
    "678726,\n",
    "1241742,\n",
    "1203158,\n",
    "1342257,\n",
    "1350020,\n",
    "814427,\n",
    "710164,\n",
    "709465,\n",
    "748038,\n",
    "946768,\n",
    "711979,\n",
    "1255659,\n",
    "1295627,\n",
    "1352617,\n",
    "1362622,\n",
    "1296602,\n",
    "1287235,\n",
    "8043561,\n",
    "1807986,\n",
    "1511078,\n",
    "1680213,\n",
    "1028735,\n",
    "1091302,\n",
    "838722,\n",
    "3257659,\n",
    "958069,\n",
    "955655,\n",
    "796476,\n",
    "978279,\n",
    "829180,\n",
    "1238464,\n",
    "876829,\n",
    "1330082,\n",
    "915917,\n",
    "859797,\n",
    "868182,\n",
    "870420,\n",
    "969883,\n",
    "877019,\n",
    "897038,\n",
    "2743932,\n",
    "1457246,\n",
    "925022,\n",
    "1326200,\n",
    "1009994,\n",
    "1016585,\n",
    "1339916,\n",
    "922541,\n",
    "1007581,\n",
    "1513250,\n",
    "667104,\n",
    "544228,\n",
    "542886,\n",
    "591670,\n",
    "951639,\n",
    "975313,\n",
    "1073325,\n",
    "931977,\n",
    "1041513,\n",
    "961695,\n",
    "902385,\n",
    "881818,\n",
    "945860,\n",
    "899119,\n",
    "874541,\n",
    "866025,\n",
    "869284,\n",
    "1204499,\n",
    "2012192,\n",
    "1096018,\n",
    "1240132,\n",
    "852650,\n",
    "843068,\n",
    "851432,\n",
    "503416,\n",
    "500938,\n",
    "502000,\n",
    "506100,\n",
    "514811,\n",
    "511331,\n",
    "289002,\n",
    "539322,\n",
    "614134,\n",
    "531596,\n",
    "552820,\n",
    "546551,\n",
    "297654,\n",
    "298688,\n",
    "301452,\n",
    "418123,\n",
    "547033,\n",
    "560233,\n",
    "637776,\n",
    "474091,\n",
    "342703,\n",
    "317425,\n",
    "370045,\n",
    "318306,\n",
    "388288,\n",
    "7943596,\n",
    "580659,\n",
    "584081,\n",
    "612789,\n",
    "614928,\n",
    "621245,\n",
    "626320,\n",
    "645924,\n",
    "1624893,\n",
    "840056,\n",
    "669135,\n",
    "669651,\n",
    "691516,\n",
    "705831,\n",
    "693862,\n",
    "675715,\n",
    "657450,\n",
    "699837,\n",
    "665566,\n",
    "656512,\n",
    "718091,\n",
    "684010,\n",
    "683912,\n",
    "682954,\n",
    "681747,\n",
    "855338,\n",
    "1183889,\n",
    "705521,\n",
    "716363,\n",
    "725936,\n",
    "703350,\n",
    "741696,\n",
    "743460,\n",
    "746282,\n",
    "3432817,\n",
    "760234,\n",
    "762102,\n",
    "765758,\n",
    "768087,\n",
    "426353,\n",
    "427569,\n",
    "764516,\n",
    "790427,\n",
    "1006378,\n",
    "801268,\n",
    "805605,\n",
    "1083806,\n",
    "802564,\n",
    "802172,\n",
    "837469,\n",
    "829001,\n",
    "862913,\n",
    "829680,\n",
    "846479,\n",
    "470869,\n",
    "468620,\n",
    "556286,\n",
    "562942,\n",
    "522790,\n",
    "]"
   ]
  },
  {
   "cell_type": "code",
   "execution_count": 21,
   "metadata": {
    "collapsed": true
   },
   "outputs": [],
   "source": [
    "size = np.arange(50,250)"
   ]
  },
  {
   "cell_type": "code",
   "execution_count": 22,
   "metadata": {},
   "outputs": [
    {
     "data": {
      "text/plain": [
       "[<matplotlib.lines.Line2D at 0x10af4b3c8>]"
      ]
     },
     "execution_count": 22,
     "metadata": {},
     "output_type": "execute_result"
    },
    {
     "data": {
      "image/png": "[encoded data removed]",
      "text/plain": [
       "<matplotlib.figure.Figure at 0x10f351e48>"
      ]
     },
     "metadata": {},
     "output_type": "display_data"
    }
   ],
   "source": [
    "plt.plot(size,runtime_size)"
   ]
  },
  {
   "cell_type": "code",
   "execution_count": 26,
   "metadata": {
    "collapsed": true
   },
   "outputs": [],
   "source": [
    "dim = [4,3,2,1]"
   ]
  },
  {
   "cell_type": "code",
   "execution_count": 24,
   "metadata": {
    "collapsed": true
   },
   "outputs": [],
   "source": [
    "runtime_dim = [16355045,15480197,10433604,7938540]"
   ]
  },
  {
   "cell_type": "code",
   "execution_count": 27,
   "metadata": {
    "scrolled": true
   },
   "outputs": [
    {
     "data": {
      "text/plain": [
       "[<matplotlib.lines.Line2D at 0x10f53a0f0>]"
      ]
     },
     "execution_count": 27,
     "metadata": {},
     "output_type": "execute_result"
    },
    {
     "data": {
      "image/png": "[encoded data removed]",
      "text/plain": [
       "<matplotlib.figure.Figure at 0x10f9ff550>"
      ]
     },
     "metadata": {},
     "output_type": "display_data"
    }
   ],
   "source": [
    "plt.plot(dim,runtime_dim)"
   ]
  },
  {
   "cell_type": "code",
   "execution_count": 38,
   "metadata": {
    "collapsed": true
   },
   "outputs": [],
   "source": [
    "runtime5 = [11565611,\n",
    "9077155,\n",
    "7980262,\n",
    "7627198,\n",
    "9408676,\n",
    "9261019,\n",
    "13242716,\n",
    "6940507,\n",
    "5919470,\n",
    "8310816,\n",
    "9966545,\n",
    "5316795,\n",
    "8912713,\n",
    "6456669,\n",
    "12368443,\n",
    "8475500,\n",
    "6645960,\n",
    "8490225,\n",
    "4001100,\n",
    "3789844,\n",
    "2238923,\n",
    "2743366,\n",
    "3938358,\n",
    "3176174,\n",
    "3166276,\n",
    "3516538,\n",
    "4089507,\n",
    "2948393,\n",
    "3450622,\n",
    "2748261,\n",
    "2744745,\n",
    "2747007,\n",
    "5163927,\n",
    "2761344,\n",
    "2515566,\n",
    "2539805,\n",
    "2633723,\n",
    "3882273,\n",
    "2735274,\n",
    "2692966,\n",
    "2688325,\n",
    "2714085,\n",
    "5134024,\n",
    "3602490,\n",
    "2232870,\n",
    "2346124,\n",
    "5779477,\n",
    "4817098,\n",
    "5266065]"
   ]
  },
  {
   "cell_type": "code",
   "execution_count": 39,
   "metadata": {},
   "outputs": [
    {
     "data": {
      "text/plain": [
       "[<matplotlib.lines.Line2D at 0x1a1c1b4860>]"
      ]
     },
     "execution_count": 39,
     "metadata": {},
     "output_type": "execute_result"
    },
    {
     "data": {
      "image/png": "[encoded data removed]",
      "text/plain": [
       "<matplotlib.figure.Figure at 0x1a1bfef828>"
      ]
     },
     "metadata": {},
     "output_type": "display_data"
    }
   ],
   "source": [
    "plt.plot(k,runtime5)"
   ]
  },
  {
   "cell_type": "code",
   "execution_count": null,
   "metadata": {
    "collapsed": true
   },
   "outputs": [],
   "source": []
  },
  {
   "cell_type": "code",
   "execution_count": null,
   "metadata": {
    "collapsed": true
   },
   "outputs": [],
   "source": []
  }
 ],
 "metadata": {
  "kernelspec": {
   "display_name": "Python 3",
   "language": "python",
   "name": "python3"
  },
  "language_info": {
   "codemirror_mode": {
    "name": "ipython",
    "version": 3
   },
   "file_extension": ".py",
   "mimetype": "text/x-python",
   "name": "python",
   "nbconvert_exporter": "python",
   "pygments_lexer": "ipython3",
   "version": "3.6.2"
  }
 },
 "nbformat": 4,
 "nbformat_minor": 2
}
